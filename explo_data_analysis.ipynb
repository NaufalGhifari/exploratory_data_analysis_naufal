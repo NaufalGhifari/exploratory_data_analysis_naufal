{
 "cells": [
  {
   "cell_type": "markdown",
   "id": "4e68d42c-997d-440a-b257-6d3d181b47e8",
   "metadata": {},
   "source": [
    "<h1>Exploratory data analysis</h1>"
   ]
  },
  {
   "cell_type": "code",
   "execution_count": null,
   "id": "4917620b-2fca-41b8-a80b-6a0f3ef2fcfe",
   "metadata": {},
   "outputs": [],
   "source": [
    "<h2>Hypothesis:</h2> "
   ]
  }
 ],
 "metadata": {
  "kernelspec": {
   "display_name": "Python 3 (ipykernel)",
   "language": "python",
   "name": "python3"
  },
  "language_info": {
   "codemirror_mode": {
    "name": "ipython",
    "version": 3
   },
   "file_extension": ".py",
   "mimetype": "text/x-python",
   "name": "python",
   "nbconvert_exporter": "python",
   "pygments_lexer": "ipython3",
   "version": "3.10.7"
  }
 },
 "nbformat": 4,
 "nbformat_minor": 5
}
